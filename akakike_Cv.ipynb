{
  "nbformat": 4,
  "nbformat_minor": 0,
  "metadata": {
    "colab": {
      "provenance": [],
      "authorship_tag": "ABX9TyOci21Bw5TNAWlTFWck9JjY",
      "include_colab_link": true
    },
    "kernelspec": {
      "name": "python3",
      "display_name": "Python 3"
    },
    "language_info": {
      "name": "python"
    }
  },
  "cells": [
    {
      "cell_type": "markdown",
      "metadata": {
        "id": "view-in-github",
        "colab_type": "text"
      },
      "source": [
        "<a href=\"https://colab.research.google.com/github/IsaiyarasanD/Akaike-Technoligies-assignment/blob/main/akakike_Cv.ipynb\" target=\"_parent\"><img src=\"https://colab.research.google.com/assets/colab-badge.svg\" alt=\"Open In Colab\"/></a>"
      ]
    },
    {
      "cell_type": "code",
      "execution_count": null,
      "metadata": {
        "id": "vWYLpu_JB_41"
      },
      "outputs": [],
      "source": [
        "import cv2\n",
        "import numpy as np\n",
        "\n",
        "def get_output_image(original_image_path: str, fully_annotated_image_path: str,\n",
        "partially_annotated_image_path: str):\n",
        "\n",
        "    # Load the original image.\n",
        "    original_image = cv2.imread(original_image_path)\n",
        "\n",
        "    # Load the fully annotated image.\n",
        "    fully_annotated_image = cv2.imread(fully_annotated_image_path)\n",
        "\n",
        "    # Convert the fully annotated image to grayscale.\n",
        "    fully_annotated_image_gray = cv2.cvtColor(fully_annotated_image, cv2.COLOR_BGR2GRAY)\n",
        "\n",
        "    # Threshold the fully annotated image to create a binary image.\n",
        "    threshold = 127\n",
        "    fully_annotated_image_binary = cv2.threshold(fully_annotated_image_gray, threshold, 255, cv2.THRESH_BINARY)[1]\n",
        "\n",
        "    # Find the contours in the binary image.\n",
        "    contours, hierarchy = cv2.findContours(fully_annotated_image_binary, cv2.RETR_TREE, cv2.CHAIN_APPROX_SIMPLE)\n",
        "\n",
        "    # Find the largest contour.\n",
        "    largest_contour = max(contours, key=cv2.contourArea)\n",
        "\n",
        "    # Extract the bounding box of the largest contour.\n",
        "    bounding_box = cv2.boundingRect(largest_contour)\n",
        "\n",
        "    # Crop the original image to remove the annotated region.\n",
        "    partially_annotated_image = original_image[bounding_box[1]:bounding_box[1] + bounding_box[3],\n",
        "                                            bounding_box[0]:bounding_box[0] + bounding_box[2]]\n",
        "\n",
        "    # Save the partially annotated image.\n",
        "    cv2.imwrite(partially_annotated_image_path, partially_annotated_image)\n",
        "\n"
      ]
    },
    {
      "cell_type": "code",
      "source": [
        "get_output_image(\"/content/original_image.jpg\",\"/content/fully_annotated_image.jpg\",\"/content/OUTPUT_partially_annotated_image.jpg\")\n"
      ],
      "metadata": {
        "id": "xku6b60FCO9s"
      },
      "execution_count": null,
      "outputs": []
    }
  ]
}